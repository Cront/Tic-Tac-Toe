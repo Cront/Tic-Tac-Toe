{
 "cells": [
  {
   "cell_type": "code",
   "execution_count": 1,
   "metadata": {},
   "outputs": [],
   "source": [
    "from IPython.display import clear_output\n",
    "import random \n",
    "import time\n",
    "\n",
    "actual_board = [\" \",\" \",\" \",\" \",\" \",\" \",\" \",\" \",\" \",\" \"]"
   ]
  },
  {
   "cell_type": "code",
   "execution_count": 2,
   "metadata": {},
   "outputs": [],
   "source": [
    "#Step #1: sets up the board\n",
    "\n",
    "def display_board(board):    \n",
    "    clear_output()\n",
    "    \n",
    "    print(\"Here's how the board is looking currently: \")\n",
    "    print(board[7] + \"|\" + board[8] + \"|\" + board[9])\n",
    "    print(\"-----\")\n",
    "    print(board[4] + \"|\" + board[5] + \"|\" + board[6])\n",
    "    print(\"-----\")\n",
    "    print(board[1] + \"|\" + board[2] + \"|\" + board[3])"
   ]
  },
  {
   "cell_type": "code",
   "execution_count": 3,
   "metadata": {},
   "outputs": [],
   "source": [
    "#Step #2: takes in input and assigns marker \n",
    "def player_input():\n",
    "    start = input(\"Player 1 what do you want to be: X or O? \")\n",
    "    approved = False\n",
    "    \n",
    "    while approved == False:     \n",
    "        if start.upper() == \"X\":\n",
    "            return (\"X\",\"O\")\n",
    "            approved = True\n",
    "        elif start.upper() == \"O\":\n",
    "            return (\"O\",\"X\")\n",
    "            approved = True\n",
    "        else: \n",
    "            start = input(\"Not a valid option. Please try again. What do you want to be: X or O? \")"
   ]
  },
  {
   "cell_type": "code",
   "execution_count": 4,
   "metadata": {},
   "outputs": [],
   "source": [
    "#Step #3: takes in board list object, a marker (\"X\" or \"O\"), and a desired position (number 1-9) and assigns it to the board\n",
    "def place_marker(board, marker, position):\n",
    "    board[position] = marker\n",
    "    return display_board(board) "
   ]
  },
  {
   "cell_type": "code",
   "execution_count": 5,
   "metadata": {},
   "outputs": [],
   "source": [
    "#Step #4: checks to see if a mark (\"X\" or \"O\") has won\n",
    "def win_check(board, mark):\n",
    "            if (board[1] == board[2] == board[3] == mark) or (board[4] == board[5] == board[6] == mark) or (board[7] == board[8] == board[9] == mark) or (board[1] == board[4] == board[7] == mark) or (board[2] == board[5] == board[8] == mark) or (board[3] == board[6] == board[9] == mark) or (board[1] == board[5] == board[9] == mark) or (board[3] == board[5] == board[7] == mark):\n",
    "                return True \n",
    "            else:\n",
    "                return False\n",
    "        "
   ]
  },
  {
   "cell_type": "code",
   "execution_count": 6,
   "metadata": {},
   "outputs": [],
   "source": [
    "#Step #5: decides which player will go 1st\n",
    "\n",
    "def choose_first():\n",
    "    x = random.randint(1,3)\n",
    "    if x == 1:\n",
    "        return \"Player 1\"\n",
    "    else: \n",
    "        return \"Player 2\""
   ]
  },
  {
   "cell_type": "code",
   "execution_count": 7,
   "metadata": {},
   "outputs": [],
   "source": [
    "#Step #6: indicates if a position on a board is free or not \n",
    "\n",
    "def space_check(board, position):\n",
    "    return board[position] == \" \""
   ]
  },
  {
   "cell_type": "code",
   "execution_count": 8,
   "metadata": {},
   "outputs": [],
   "source": [
    "#Step #7: checks if a board is full \n",
    "\n",
    "def full_board_check(board):\n",
    "    for i in range(1,10):\n",
    "        if space_check(board, i):\n",
    "            return False\n",
    "    \n",
    "    else:\n",
    "        return True"
   ]
  },
  {
   "cell_type": "code",
   "execution_count": 9,
   "metadata": {},
   "outputs": [],
   "source": [
    "#Step #8: asks user for a new position. If that position is free it's saved for later\n",
    "\n",
    "def player_choice(board):\n",
    "    new_position = int(input(\"Next position: \"))\n",
    "    \n",
    "    while new_position not in [1,2,3,4,5,6,7,8,9] or not space_check(board, new_position):\n",
    "        new_position = int(input(\"That position is taken, please choose another one. Next position (between 1-9): \"))\n",
    "        \n",
    "    return new_position    \n",
    "    "
   ]
  },
  {
   "cell_type": "code",
   "execution_count": 10,
   "metadata": {},
   "outputs": [],
   "source": [
    "#Step #9: checks if the players want to play again \n",
    "def replay():\n",
    "    return input(\"Do you want to play again? \").lower() == \"yes\" \n",
    "            "
   ]
  },
  {
   "cell_type": "code",
   "execution_count": 11,
   "metadata": {},
   "outputs": [],
   "source": [
    "#Step #10: THE GAME\n",
    "def the_game():\n",
    "    \n",
    "    while True:\n",
    "       \n",
    "        #The board itself\n",
    "        actual_board = [\" \"] * 10\n",
    "\n",
    "        #Condition that starts and ends the game\n",
    "        game_on = True \n",
    "\n",
    "        print(\"Welcome to Tic Tac Toe!\")\n",
    "\n",
    "        #Step #2: Gets the markers for each player\n",
    "        first_marker, second_marker = player_input()\n",
    "\n",
    "        #Step #5: Let's users know who is going first \n",
    "        turn = choose_first()\n",
    "        print(f\"{turn} will go first!\")\n",
    "        time.sleep(3)\n",
    "\n",
    "        \n",
    "        \n",
    "        while game_on:\n",
    "            if turn == \"Player 1\":\n",
    "            \n",
    "                #Step #1: Display's the board to the players\n",
    "                display_board(actual_board)\n",
    "\n",
    "                #Step #8: Asks for user position and saves it \n",
    "                x = player_choice(actual_board) # x = the new position\n",
    "\n",
    "                #Step #3: position reassignment\n",
    "                place_marker(actual_board, first_marker, x)\n",
    "\n",
    "                #Step 4: checks if there is a tie or if anyone has won \n",
    "                if win_check(actual_board, first_marker):\n",
    "                    display_board(actual_board)\n",
    "                    print(\"Player 1 has won!\")\n",
    "                    game_on = False\n",
    "                else:\n",
    "                    if full_board_check(actual_board) == True:\n",
    "                        display_board(actual_board)\n",
    "                        print(\"The game has been tied!\")\n",
    "                        game_on = False\n",
    "                    else:\n",
    "                        turn = \"Player 2\"\n",
    "            \n",
    "            \n",
    "            else:\n",
    "                #Step #1: Display's the board to the players\n",
    "                display_board(actual_board)\n",
    "\n",
    "                #Step #8: Asks for user position and saves it \n",
    "                x = player_choice(actual_board)\n",
    "\n",
    "                #Step #3: position reassignment\n",
    "                place_marker(actual_board, second_marker, x)\n",
    "\n",
    "                #Step #4: checks if anyone has won or if a tie has occurred yet        \n",
    "                if win_check(actual_board, second_marker):\n",
    "                    display_board(actual_board)\n",
    "                    print(\"Player 2 has won!\")\n",
    "                    game_on = False\n",
    "                else:\n",
    "                    if full_board_check(actual_board):\n",
    "                        display_board(actual_board)\n",
    "                        print(\"The game has been tied!\")\n",
    "                        game_on = False\n",
    "                    else:\n",
    "                        turn = \"Player 1\"\n",
    " \n",
    "\n",
    "        if not replay():\n",
    "            print(\"See ya!\")\n",
    "            break\n",
    "        else:\n",
    "            print(\"Here we go!\")\n",
    "            game_on = True\n",
    "            \n",
    "        \n",
    "        \n",
    "        "
   ]
  }
 ],
 "metadata": {
  "kernelspec": {
   "display_name": "Python 3",
   "language": "python",
   "name": "python3"
  },
  "language_info": {
   "codemirror_mode": {
    "name": "ipython",
    "version": 3
   },
   "file_extension": ".py",
   "mimetype": "text/x-python",
   "name": "python",
   "nbconvert_exporter": "python",
   "pygments_lexer": "ipython3",
   "version": "3.8.5"
  }
 },
 "nbformat": 4,
 "nbformat_minor": 4
}
